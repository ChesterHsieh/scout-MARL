{
 "cells": [
  {
   "cell_type": "code",
   "execution_count": 6,
   "outputs": [
    {
     "data": {
      "text/plain": "<module 'environment.ScoutGameEnv' from '/Users/chester/PycharmProjects/scout-MARL/environment/ScoutGameEnv.py'>"
     },
     "execution_count": 6,
     "metadata": {},
     "output_type": "execute_result"
    }
   ],
   "source": [
    "from environment import ScoutGameEnv\n",
    "from importlib import reload\n",
    "reload(ScoutGameEnv)"
   ],
   "metadata": {
    "collapsed": false,
    "ExecuteTime": {
     "end_time": "2023-11-18T15:36:45.703210Z",
     "start_time": "2023-11-18T15:36:45.697753Z"
    }
   }
  },
  {
   "cell_type": "code",
   "execution_count": 8,
   "outputs": [
    {
     "data": {
      "text/plain": "CompositeSpec(\n    action_type: BinaryDiscreteTensorSpec(\n        shape=torch.Size([2]),\n        space=DiscreteBox(n=2),\n        device=cpu,\n        dtype=torch.int64,\n        domain=discrete),\n    play_action: BinaryDiscreteTensorSpec(\n        shape=torch.Size([11]),\n        space=DiscreteBox(n=2),\n        device=cpu,\n        dtype=torch.int64,\n        domain=discrete),\n    exchange_action: CompositeSpec(\n        exchange_choice: BinaryDiscreteTensorSpec(\n            shape=torch.Size([2]),\n            space=DiscreteBox(n=2),\n            device=cpu,\n            dtype=torch.int64,\n            domain=discrete),\n        play_after_exchange: BinaryDiscreteTensorSpec(\n            shape=torch.Size([12]),\n            space=DiscreteBox(n=2),\n            device=cpu,\n            dtype=torch.int64,\n            domain=discrete), device=cpu, shape=torch.Size([])), device=cpu, shape=torch.Size([]))"
     },
     "execution_count": 8,
     "metadata": {},
     "output_type": "execute_result"
    }
   ],
   "source": [
    "dot = ScoutGameEnv.ScoutGameEnv()\n",
    "\n",
    "dot.action_space_spec"
   ],
   "metadata": {
    "collapsed": false,
    "ExecuteTime": {
     "end_time": "2023-11-18T15:36:55.548925Z",
     "start_time": "2023-11-18T15:36:55.546208Z"
    }
   }
  },
  {
   "cell_type": "code",
   "execution_count": null,
   "outputs": [],
   "source": [],
   "metadata": {
    "collapsed": false
   }
  },
  {
   "cell_type": "code",
   "execution_count": 11,
   "outputs": [
    {
     "ename": "ModuleNotFoundError",
     "evalue": "Supported version of 'torchrl.envs.libs.gym.GymEnv._set_gym_args' has not been found.",
     "output_type": "error",
     "traceback": [
      "\u001B[0;31m---------------------------------------------------------------------------\u001B[0m",
      "\u001B[0;31mModuleNotFoundError\u001B[0m                       Traceback (most recent call last)",
      "Cell \u001B[0;32mIn[11], line 3\u001B[0m\n\u001B[1;32m      1\u001B[0m \u001B[38;5;28;01mfrom\u001B[39;00m \u001B[38;5;21;01mtorchrl\u001B[39;00m\u001B[38;5;21;01m.\u001B[39;00m\u001B[38;5;21;01menvs\u001B[39;00m \u001B[38;5;28;01mimport\u001B[39;00m GymEnv\n\u001B[0;32m----> 3\u001B[0m sample_env \u001B[38;5;241m=\u001B[39m \u001B[43mGymEnv\u001B[49m\u001B[43m(\u001B[49m\u001B[38;5;124;43m\"\u001B[39;49m\u001B[38;5;124;43mPendulum-v1\u001B[39;49m\u001B[38;5;124;43m\"\u001B[39;49m\u001B[43m,\u001B[49m\u001B[43m \u001B[49m\u001B[43mfrom_pixels\u001B[49m\u001B[38;5;241;43m=\u001B[39;49m\u001B[38;5;28;43;01mTrue\u001B[39;49;00m\u001B[43m,\u001B[49m\u001B[43m \u001B[49m\u001B[43mg\u001B[49m\u001B[38;5;241;43m=\u001B[39;49m\u001B[38;5;241;43m9.81\u001B[39;49m\u001B[43m)\u001B[49m\n",
      "File \u001B[0;32m~/.local/share/virtualenvs/scout-MARL-uC-qHHx5/lib/python3.9/site-packages/torchrl/envs/libs/gym.py:399\u001B[0m, in \u001B[0;36m_AsyncMeta.__call__\u001B[0;34m(cls, *args, **kwargs)\u001B[0m\n\u001B[1;32m    398\u001B[0m \u001B[38;5;28;01mdef\u001B[39;00m \u001B[38;5;21m__call__\u001B[39m(\u001B[38;5;28mcls\u001B[39m, \u001B[38;5;241m*\u001B[39margs, \u001B[38;5;241m*\u001B[39m\u001B[38;5;241m*\u001B[39mkwargs):\n\u001B[0;32m--> 399\u001B[0m     instance: GymWrapper \u001B[38;5;241m=\u001B[39m \u001B[38;5;28;43msuper\u001B[39;49m\u001B[43m(\u001B[49m\u001B[43m)\u001B[49m\u001B[38;5;241;43m.\u001B[39;49m\u001B[38;5;21;43m__call__\u001B[39;49m\u001B[43m(\u001B[49m\u001B[38;5;241;43m*\u001B[39;49m\u001B[43margs\u001B[49m\u001B[43m,\u001B[49m\u001B[43m \u001B[49m\u001B[38;5;241;43m*\u001B[39;49m\u001B[38;5;241;43m*\u001B[39;49m\u001B[43mkwargs\u001B[49m\u001B[43m)\u001B[49m\n\u001B[1;32m    401\u001B[0m     \u001B[38;5;66;03m# before gym 0.22, there was no final_observation\u001B[39;00m\n\u001B[1;32m    402\u001B[0m     \u001B[38;5;28;01mif\u001B[39;00m instance\u001B[38;5;241m.\u001B[39m_is_batched:\n",
      "File \u001B[0;32m~/.local/share/virtualenvs/scout-MARL-uC-qHHx5/lib/python3.9/site-packages/torchrl/envs/common.py:137\u001B[0m, in \u001B[0;36m_EnvPostInit.__call__\u001B[0;34m(cls, *args, **kwargs)\u001B[0m\n\u001B[1;32m    136\u001B[0m \u001B[38;5;28;01mdef\u001B[39;00m \u001B[38;5;21m__call__\u001B[39m(\u001B[38;5;28mcls\u001B[39m, \u001B[38;5;241m*\u001B[39margs, \u001B[38;5;241m*\u001B[39m\u001B[38;5;241m*\u001B[39mkwargs):\n\u001B[0;32m--> 137\u001B[0m     instance: EnvBase \u001B[38;5;241m=\u001B[39m \u001B[38;5;28;43msuper\u001B[39;49m\u001B[43m(\u001B[49m\u001B[43m)\u001B[49m\u001B[38;5;241;43m.\u001B[39;49m\u001B[38;5;21;43m__call__\u001B[39;49m\u001B[43m(\u001B[49m\u001B[38;5;241;43m*\u001B[39;49m\u001B[43margs\u001B[49m\u001B[43m,\u001B[49m\u001B[43m \u001B[49m\u001B[38;5;241;43m*\u001B[39;49m\u001B[38;5;241;43m*\u001B[39;49m\u001B[43mkwargs\u001B[49m\u001B[43m)\u001B[49m\n\u001B[1;32m    138\u001B[0m     \u001B[38;5;66;03m# we create the done spec by adding a done/terminated entry if one is missing\u001B[39;00m\n\u001B[1;32m    139\u001B[0m     instance\u001B[38;5;241m.\u001B[39m_create_done_specs()\n",
      "File \u001B[0;32m~/.local/share/virtualenvs/scout-MARL-uC-qHHx5/lib/python3.9/site-packages/torchrl/envs/libs/gym.py:956\u001B[0m, in \u001B[0;36mGymEnv.__init__\u001B[0;34m(self, env_name, **kwargs)\u001B[0m\n\u001B[1;32m    954\u001B[0m \u001B[38;5;28;01mdef\u001B[39;00m \u001B[38;5;21m__init__\u001B[39m(\u001B[38;5;28mself\u001B[39m, env_name, \u001B[38;5;241m*\u001B[39m\u001B[38;5;241m*\u001B[39mkwargs):\n\u001B[1;32m    955\u001B[0m     kwargs[\u001B[38;5;124m\"\u001B[39m\u001B[38;5;124menv_name\u001B[39m\u001B[38;5;124m\"\u001B[39m] \u001B[38;5;241m=\u001B[39m env_name\n\u001B[0;32m--> 956\u001B[0m     \u001B[38;5;28;43mself\u001B[39;49m\u001B[38;5;241;43m.\u001B[39;49m\u001B[43m_set_gym_args\u001B[49m\u001B[43m(\u001B[49m\u001B[43mkwargs\u001B[49m\u001B[43m)\u001B[49m\n\u001B[1;32m    957\u001B[0m     \u001B[38;5;28msuper\u001B[39m()\u001B[38;5;241m.\u001B[39m\u001B[38;5;21m__init__\u001B[39m(\u001B[38;5;241m*\u001B[39m\u001B[38;5;241m*\u001B[39mkwargs)\n",
      "File \u001B[0;32m~/.local/share/virtualenvs/scout-MARL-uC-qHHx5/lib/python3.9/site-packages/torchrl/_utils.py:349\u001B[0m, in \u001B[0;36mimplement_for.__call__.<locals>._lazy_call_fn\u001B[0;34m(*args, **kwargs)\u001B[0m\n\u001B[1;32m    345\u001B[0m \u001B[38;5;129m@wraps\u001B[39m(fn)\n\u001B[1;32m    346\u001B[0m \u001B[38;5;28;01mdef\u001B[39;00m \u001B[38;5;21m_lazy_call_fn\u001B[39m(\u001B[38;5;241m*\u001B[39margs, \u001B[38;5;241m*\u001B[39m\u001B[38;5;241m*\u001B[39mkwargs):\n\u001B[1;32m    347\u001B[0m     \u001B[38;5;66;03m# first time we call the function, we also do the replacement.\u001B[39;00m\n\u001B[1;32m    348\u001B[0m     \u001B[38;5;66;03m# This will cause the imports to occur only during the first call to fn\u001B[39;00m\n\u001B[0;32m--> 349\u001B[0m     \u001B[38;5;28;01mreturn\u001B[39;00m \u001B[38;5;28;43mself\u001B[39;49m\u001B[38;5;241;43m.\u001B[39;49m\u001B[43m_delazify\u001B[49m\u001B[43m(\u001B[49m\u001B[38;5;28;43mself\u001B[39;49m\u001B[38;5;241;43m.\u001B[39;49m\u001B[43mfunc_name\u001B[49m\u001B[43m)\u001B[49m\u001B[43m(\u001B[49m\u001B[38;5;241;43m*\u001B[39;49m\u001B[43margs\u001B[49m\u001B[43m,\u001B[49m\u001B[43m \u001B[49m\u001B[38;5;241;43m*\u001B[39;49m\u001B[38;5;241;43m*\u001B[39;49m\u001B[43mkwargs\u001B[49m\u001B[43m)\u001B[49m\n",
      "File \u001B[0;32m~/.local/share/virtualenvs/scout-MARL-uC-qHHx5/lib/python3.9/site-packages/torchrl/_utils.py:362\u001B[0m, in \u001B[0;36mimplement_for._call.<locals>.unsupported\u001B[0;34m(*args, **kwargs)\u001B[0m\n\u001B[1;32m    360\u001B[0m \u001B[38;5;129m@wraps\u001B[39m(fn)\n\u001B[1;32m    361\u001B[0m \u001B[38;5;28;01mdef\u001B[39;00m \u001B[38;5;21munsupported\u001B[39m(\u001B[38;5;241m*\u001B[39margs, \u001B[38;5;241m*\u001B[39m\u001B[38;5;241m*\u001B[39mkwargs):\n\u001B[0;32m--> 362\u001B[0m     \u001B[38;5;28;01mraise\u001B[39;00m \u001B[38;5;167;01mModuleNotFoundError\u001B[39;00m(\n\u001B[1;32m    363\u001B[0m         \u001B[38;5;124mf\u001B[39m\u001B[38;5;124m\"\u001B[39m\u001B[38;5;124mSupported version of \u001B[39m\u001B[38;5;124m'\u001B[39m\u001B[38;5;132;01m{\u001B[39;00mfunc_name\u001B[38;5;132;01m}\u001B[39;00m\u001B[38;5;124m'\u001B[39m\u001B[38;5;124m has not been found.\u001B[39m\u001B[38;5;124m\"\u001B[39m\n\u001B[1;32m    364\u001B[0m     )\n",
      "\u001B[0;31mModuleNotFoundError\u001B[0m: Supported version of 'torchrl.envs.libs.gym.GymEnv._set_gym_args' has not been found."
     ]
    }
   ],
   "source": [
    "from torchrl.envs import GymEnv\n",
    "\n",
    "sample_env = GymEnv(\"Pendulum-v1\", from_pixels=True, g=9.81)"
   ],
   "metadata": {
    "collapsed": false,
    "ExecuteTime": {
     "end_time": "2023-11-18T15:43:56.262718Z",
     "start_time": "2023-11-18T15:43:56.154036Z"
    }
   }
  }
 ],
 "metadata": {
  "kernelspec": {
   "display_name": "Python 3",
   "language": "python",
   "name": "python3"
  },
  "language_info": {
   "codemirror_mode": {
    "name": "ipython",
    "version": 2
   },
   "file_extension": ".py",
   "mimetype": "text/x-python",
   "name": "python",
   "nbconvert_exporter": "python",
   "pygments_lexer": "ipython2",
   "version": "2.7.6"
  }
 },
 "nbformat": 4,
 "nbformat_minor": 0
}
